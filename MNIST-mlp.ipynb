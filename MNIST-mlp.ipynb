{
 "cells": [
  {
   "cell_type": "markdown",
   "metadata": {},
   "source": [
    "### Import Libraries"
   ]
  },
  {
   "cell_type": "code",
   "execution_count": 7,
   "metadata": {},
   "outputs": [],
   "source": [
    "\"If it does not work use code below while running this notebook in this dir.\"\n",
    "# import sys\n",
    "# import os\n",
    "# sys.path.append(os.path.abspath(os.getcwd()))\n",
    "\n",
    "from mytorch import Tensor, Model\n",
    "from mytorch import activation as active_func\n",
    "from mytorch import loss as loss_func\n",
    "from mytorch import optimizer as optim \n",
    "from mytorch import layer as nn\n",
    "from mytorch.util import DataLoader\n",
    "from mytorch.util import flatten\n",
    "import numpy as np\n",
    "import matplotlib.pyplot as plt"
   ]
  },
  {
   "cell_type": "markdown",
   "metadata": {},
   "source": [
    "### Load MNIST"
   ]
  },
  {
   "cell_type": "code",
   "execution_count": 8,
   "metadata": {},
   "outputs": [
    {
     "name": "stdout",
     "output_type": "stream",
     "text": [
      "loading train...\n",
      "loading test...\n",
      "processing...\n",
      "(500, 28, 28)\n",
      "(500,)\n"
     ]
    }
   ],
   "source": [
    "\"\"\"\n",
    "load data set with given data loader.\n",
    "you have 10000 train data, 1000 for each number, remember to shuffle training data.\n",
    "you have 1000 test data, 100 for each number.\n",
    "\n",
    "loaded data is a list of (img, label)\n",
    "type of img is Tensor.\n",
    "\n",
    "TODO: you have to get this list and create batches for training.\n",
    "you can also apply this changes later in the Training part for convenience.\n",
    "\"\"\"\n",
    "data_loader = DataLoader(train_addr='MNIST/train', test_addr='MNIST/test')\n",
    "data_loader.load()\n",
    "\"you can see how data is loaded\"\n",
    "print(data_loader.getTrain()[0][0].shape)\n",
    "print(data_loader.getTrain()[0][1].shape)"
   ]
  },
  {
   "cell_type": "markdown",
   "metadata": {},
   "source": [
    "### Define and Create your Model"
   ]
  },
  {
   "cell_type": "code",
   "execution_count": 9,
   "metadata": {},
   "outputs": [
    {
     "name": "stdout",
     "output_type": "stream",
     "text": [
      "layer1:  linear - total param: 392000 - in: 784, out: 500\n",
      "layer2:  linear - total param: 64000 - in: 500, out: 128\n",
      "layer3:  linear - total param: 1280 - in: 128, out: 10\n",
      "None\n"
     ]
    }
   ],
   "source": [
    "class MyModel(Model):\n",
    "    def __init__(self):\n",
    "        \"\"\"TODO: define your layers. order is important\"\"\"\n",
    "        super().__init__()\n",
    "        self.layer1 = nn.Linear(784, 500)  \n",
    "        self.layer2 = nn.Linear(500, 128)  \n",
    "        self.layer3 = nn.Linear(128, 10)    \n",
    "        \n",
    "        self.relu = active_func.relu\n",
    "        self.softmax = active_func.softmax\n",
    "\n",
    "    def forward(self, x: Tensor) -> Tensor:\n",
    "        x = self.relu(self.layer1(x))\n",
    "        x = self.relu(self.layer2(x))\n",
    "        return self.softmax(self.layer3(x))\n",
    "\n",
    "model = MyModel()\n",
    "print(model.summary())"
   ]
  },
  {
   "cell_type": "markdown",
   "metadata": {},
   "source": [
    "### Choose a Loss Function"
   ]
  },
  {
   "cell_type": "code",
   "execution_count": 10,
   "metadata": {},
   "outputs": [],
   "source": [
    "\"TODO: choose a proper loss function\"\n",
    "criterion = loss_func.CategoricalCrossEntropy"
   ]
  },
  {
   "cell_type": "markdown",
   "metadata": {},
   "source": [
    "### Choose an Optimizer"
   ]
  },
  {
   "cell_type": "code",
   "execution_count": 11,
   "metadata": {},
   "outputs": [],
   "source": [
    "\"TODO: choose a proper optimizer\"\n",
    "optimizer = optim.sgd.SGD(model.parameters(), learning_rate=0.001)"
   ]
  },
  {
   "cell_type": "markdown",
   "metadata": {},
   "source": [
    "### Training Model"
   ]
  },
  {
   "cell_type": "code",
   "execution_count": 12,
   "metadata": {},
   "outputs": [
    {
     "name": "stdout",
     "output_type": "stream",
     "text": [
      "Epoch 1/20, Train Accuracy: 56.269999999999996%, Test Accuracy: 71.39999999999999%\n",
      "Epoch 2/20, Train Accuracy: 78.89%, Test Accuracy: 77.9%\n",
      "Epoch 3/20, Train Accuracy: 85.59%, Test Accuracy: 84.8%\n",
      "Epoch 4/20, Train Accuracy: 89.18%, Test Accuracy: 87.6%\n",
      "Epoch 5/20, Train Accuracy: 90.46%, Test Accuracy: 88.4%\n",
      "Epoch 6/20, Train Accuracy: 91.51%, Test Accuracy: 89.3%\n",
      "Epoch 7/20, Train Accuracy: 92.33%, Test Accuracy: 89.8%\n",
      "Epoch 8/20, Train Accuracy: 92.9%, Test Accuracy: 90.7%\n",
      "Epoch 9/20, Train Accuracy: 93.35%, Test Accuracy: 91.4%\n",
      "Epoch 10/20, Train Accuracy: 93.87%, Test Accuracy: 91.4%\n",
      "Epoch 11/20, Train Accuracy: 94.19999999999999%, Test Accuracy: 91.5%\n",
      "Epoch 12/20, Train Accuracy: 94.63000000000001%, Test Accuracy: 91.4%\n",
      "Epoch 13/20, Train Accuracy: 94.92%, Test Accuracy: 91.9%\n",
      "Epoch 14/20, Train Accuracy: 95.28%, Test Accuracy: 92.0%\n",
      "Epoch 15/20, Train Accuracy: 95.49%, Test Accuracy: 92.10000000000001%\n",
      "Epoch 16/20, Train Accuracy: 95.83%, Test Accuracy: 92.30000000000001%\n",
      "Epoch 17/20, Train Accuracy: 96.09%, Test Accuracy: 92.30000000000001%\n",
      "Epoch 18/20, Train Accuracy: 96.35000000000001%, Test Accuracy: 92.4%\n",
      "Epoch 19/20, Train Accuracy: 96.61999999999999%, Test Accuracy: 92.60000000000001%\n",
      "Epoch 20/20, Train Accuracy: 96.83%, Test Accuracy: 92.7%\n"
     ]
    }
   ],
   "source": [
    "\"TODO: define number of epoch and train batches of data on your model. also test each epoch.\"\n",
    "EPOCH = 20\n",
    "\n",
    "for i in range(EPOCH):\n",
    "\n",
    "    train_acc = []\n",
    "    test_acc = []\n",
    "    best_train_acc = 0.0\n",
    "    best_test_acc = 0.0\n",
    "\n",
    "    \"TODO: train over your defined batches and save train accuracy for each epoch.\"\n",
    "    trn_corr = 0\n",
    "    tst_corr = 0\n",
    "    \n",
    "    for inputs, labels in data_loader.getTrain():\n",
    "        reshaped_data = Tensor(inputs.data.reshape((-1 , 784)) / 255.)\n",
    "\n",
    "        one_hot_matrix = np.zeros((labels.shape[0], 10))\n",
    "        one_hot_matrix[np.arange(labels.shape[0]), labels.data] = 1\n",
    "        \n",
    "        outputs = model.forward(reshaped_data)\n",
    "        optimizer.zero_grad()\n",
    "        \n",
    "        loss = criterion(outputs, Tensor(one_hot_matrix))\n",
    "        \n",
    "        loss.backward()\n",
    "        optimizer.step()\n",
    "\n",
    "        # Calculate correct predictions for training\n",
    "        predicted = np.argmax(outputs.data , 1)\n",
    "        trn_corr += np.sum(predicted == labels.data)\n",
    "\n",
    "    epoch_train_acc = (trn_corr / 10000) * 100\n",
    "    train_acc.append(epoch_train_acc)\n",
    "    if epoch_train_acc > best_train_acc:\n",
    "        best_train_acc = epoch_train_acc\n",
    "\n",
    "\n",
    "    \"TODO: test your model after each training and save test accuracy for each epoch.\"\n",
    "    for test_inputs, test_labels in data_loader.getTest():\n",
    "        reshaped_data = Tensor(test_inputs.data.reshape((-1 , 784)) / 255.)\n",
    "        test_outputs = model.forward(reshaped_data)\n",
    "        predicted_test = np.argmax(test_outputs.data, 1)\n",
    "        tst_corr += np.sum(predicted_test == test_labels.data)\n",
    "\n",
    "    epoch_test_acc = (tst_corr / 1000) * 100\n",
    "    test_acc.append(epoch_test_acc)\n",
    "    if epoch_test_acc > best_test_acc:\n",
    "        best_test_acc = epoch_test_acc\n",
    "\n",
    "    print(f\"Epoch {i+1}/{EPOCH}, Train Accuracy: {epoch_train_acc}%, Test Accuracy: {epoch_test_acc}%\")\n",
    "        \n"
   ]
  },
  {
   "cell_type": "markdown",
   "metadata": {},
   "source": [
    "### Evaluate Model Performance"
   ]
  },
  {
   "cell_type": "code",
   "execution_count": 13,
   "metadata": {},
   "outputs": [
    {
     "data": {
      "image/png": "[encoded data removed]",
      "text/plain": [
       "<Figure size 640x480 with 1 Axes>"
      ]
     },
     "metadata": {},
     "output_type": "display_data"
    },
    {
     "name": "stdout",
     "output_type": "stream",
     "text": [
      "\n",
      "On train - best accuracy: 96.83, final accuracy: 96.83\n",
      "On test - best accuracy: 92.70, final accuracy: 92.70\n"
     ]
    }
   ],
   "source": [
    "plt.plot(train_acc, label='train accuracy')\n",
    "plt.plot(test_acc, label = 'test accuracy')\n",
    "plt.xlabel('Epoch')\n",
    "plt.ylabel('Accuracy')\n",
    "plt.legend(loc='lower right')\n",
    "plt.show();\n",
    "\n",
    "print(\"\\nOn train - best accuracy: {:.2f}, final accuracy: {:.2f}\".format(best_train_acc, train_acc[-1]))\n",
    "print(\"On test - best accuracy: {:.2f}, final accuracy: {:.2f}\".format(best_test_acc, test_acc[-1]))"
   ]
  }
 ],
 "metadata": {
  "kernelspec": {
   "display_name": "Python 3 (ipykernel)",
   "language": "python",
   "name": "python3"
  },
  "language_info": {
   "codemirror_mode": {
    "name": "ipython",
    "version": 3
   },
   "file_extension": ".py",
   "mimetype": "text/x-python",
   "name": "python",
   "nbconvert_exporter": "python",
   "pygments_lexer": "ipython3",
   "version": "3.12.1"
  }
 },
 "nbformat": 4,
 "nbformat_minor": 4
}
